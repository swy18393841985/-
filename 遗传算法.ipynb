{
 "cells": [
  {
   "cell_type": "markdown",
   "metadata": {},
   "source": [
    "·遗传算法"
   ]
  },
  {
   "cell_type": "markdown",
   "metadata": {},
   "source": [
    "遗传算法是从代表问题可能潜在的解集的一个种群开始的，而一个种群则由经过基因编码的一定数目的个体组成。因此，第一步需要实现从表现型到基因型的映射即编码工作，初代种群产生之后，按照适者生存和优胜劣汰的原理，逐代烟花产生出来越来越好的近似解，在每一代，根据问题域中个体的适应度大小选择个体，并借助于自然遗传学的遗传算子进行组合交叉和变异，产生出代表新的解集的种群。最终末代种群中的最优个体经过解码，可以作为问题近似最优解。\n",
    "\n",
    "遗传算法有三个基本操作，选择，交叉，变异\n",
    "    ·选择：从当前群体中选出优良的个体，使他们有机会作为父代繁衍下一代，根据每个个体的适应度值，按照一定的规则或方法从上一代群体中选择出一些优良的个体一传给下一代。选择的依据是适应性强的个体为下一代贡献一个或多个后代的概率大\n",
    "    ·交叉：通过交叉操作可以得到新一代个体，新个体组合了父辈个体的特性，将群体中各个个体随机搭配成双对，对每一个个体，一交叉概率交换它们之间的那部分染色体\n",
    "    ·变异：对种群中的每一个个体，以变异概率改变某一个或多个基因座上的基因值为其他的等位基因。同生物界中一样，变异发生的概率很低，变异为新个体的产生提供了机会。"
   ]
  },
  {
   "cell_type": "code",
   "execution_count": 1,
   "metadata": {},
   "outputs": [
    {
     "name": "stdout",
     "output_type": "stream",
     "text": [
      "[[1. 0. 0. ... 1. 1. 0.]\n",
      " [1. 0. 1. ... 0. 0. 1.]\n",
      " [0. 1. 1. ... 1. 1. 0.]\n",
      " ...\n",
      " [1. 1. 1. ... 0. 0. 1.]\n",
      " [1. 1. 1. ... 0. 0. 1.]\n",
      " [0. 0. 0. ... 0. 1. 1.]]\n",
      "[10.35232544 12.03399658  4.81336594 10.76128006 11.90877914 14.53987122\n",
      "  3.26789856 19.81723785  5.20084381  2.83191681 11.14189148  0.40391922\n",
      " 13.29900742  6.03208542 12.26003647 15.73959351  4.8956871  11.71728134\n",
      "  9.76392746 12.95907974 11.58683777  7.50982285  2.32177734 11.46848679\n",
      " 18.38169098  4.13036346  3.85538101 13.88240814 11.95858002 13.93201828\n",
      "  7.48935699  9.85128403 11.78718567 11.97711945 19.71912384 19.78075027\n",
      " 18.34444046  6.51765823  4.99320984  8.24367523  8.5607338   1.32749557\n",
      " 16.56024933  4.27284241  1.75867081  6.14595413 18.88879776  9.48078156\n",
      "  1.78243637 19.2137146   1.26537323  2.36459732 14.09276962 14.34247971\n",
      "  5.7673645  16.74104691 19.78298187 18.51066589 13.65877151 14.34755325\n",
      "  6.76733017 18.7087059   3.1709671   7.02968597  6.66210175 17.81972885\n",
      " 19.45684433  2.441082    2.02804565  4.46977615  0.13936996  5.60297012\n",
      " 12.77776718  3.02045822  1.03759766  3.52827072 16.94047928  7.32477188\n",
      " 10.61288834 19.00686264 14.66026306  8.34936142  3.67872238 11.36852264\n",
      "  6.53343201  0.82975388  2.36848831 16.02788925 10.09185791  7.7422905\n",
      "  3.98378372 19.0385437   3.1836319  11.16409302 13.65524292 15.53634644\n",
      " 12.39686966 19.731884    4.71662521 15.64136505]\n"
     ]
    }
   ],
   "source": [
    "import numpy as np\n",
    "def Decimal_conversion(pop):#进制转换\n",
    "    pop1=np.zeros([len(pop),20])\n",
    "    for j in range(20):\n",
    "        pop1[:,j]=pop[:,j]*2**(20-j)#按位权值展开\n",
    "    temp=np.sum(pop1,1)\n",
    "    pop2=0+temp*((10-0)/2**20)\n",
    "    return pop2\n",
    "pop1=np.round(np.random.uniform(0,1,(100,20)))\n",
    "print(pop1)\n",
    "pop2=Decimal_conversion(np.round(np.random.uniform(0,1,(100,20))))\n",
    "print(pop2)\n"
   ]
  },
  {
   "cell_type": "code",
   "execution_count": null,
   "metadata": {},
   "outputs": [],
   "source": [
    "def pop_choose(fitvalue):#选择操作（轮盘赌法）\n",
    "    newpop=[]\n",
    "    p_fitvalue1=fitvalue/np.sum(fitvalue)\n",
    "    p_fitvalue=np.cumsum(p_fitvalue1)\n",
    "    p_rand=np.sort(np.random.uniform(0,1,(self.px,1)))#px行，1列个由小到大排序的随机数\n",
    "    #用p_rand去与做完了累计和的p_fitvalue作比较\n",
    "    #适应度越高就有越大的几率在p_fitvalue的累计和中占据更大的区间\n",
    "    #将会有更多的p_rand值落在中间\n",
    "    #用这种方法保留下了适应度值较大的基因\n",
    "    i=1#指向随机数的指针\n",
    "    j=1#指向累计和区间的指针\n",
    "    while i<self.px:\n",
    "        if p_rand[i]<p_fitvalue[j]:\n",
    "            newpop.append(self.pop[j,:])#适应度高的基因以较大概率保留到了新种群中\n",
    "            i+=1\n",
    "        else:\n",
    "            j+=1\n",
    "    newpop=np.array(newpop)\n",
    "    return newpop"
   ]
  },
  {
   "cell_type": "code",
   "execution_count": 6,
   "metadata": {},
   "outputs": [
    {
     "name": "stdout",
     "output_type": "stream",
     "text": [
      "[[0. 1.]\n",
      " [1. 0.]]\n"
     ]
    },
    {
     "ename": "TypeError",
     "evalue": "'float' object cannot be interpreted as an integer",
     "output_type": "error",
     "traceback": [
      "\u001b[1;31m---------------------------------------------------------------------------\u001b[0m",
      "\u001b[1;31mTypeError\u001b[0m                                 Traceback (most recent call last)",
      "\u001b[1;32m<ipython-input-6-f6f1aeae02b6>\u001b[0m in \u001b[0;36m<module>\u001b[1;34m\u001b[0m\n\u001b[0;32m      6\u001b[0m \u001b[0ma\u001b[0m\u001b[1;33m=\u001b[0m\u001b[0mnp\u001b[0m\u001b[1;33m.\u001b[0m\u001b[0marray\u001b[0m\u001b[1;33m(\u001b[0m\u001b[1;33m[\u001b[0m\u001b[1;36m0.3\u001b[0m\u001b[1;33m,\u001b[0m\u001b[1;36m0.5\u001b[0m\u001b[1;33m,\u001b[0m\u001b[1;36m0.7\u001b[0m\u001b[1;33m,\u001b[0m\u001b[1;36m0.2\u001b[0m\u001b[1;33m]\u001b[0m\u001b[1;33m)\u001b[0m\u001b[1;33m.\u001b[0m\u001b[0mreshape\u001b[0m\u001b[1;33m(\u001b[0m\u001b[1;36m2\u001b[0m\u001b[1;33m,\u001b[0m\u001b[1;36m2\u001b[0m\u001b[1;33m)\u001b[0m\u001b[1;33m\u001b[0m\u001b[1;33m\u001b[0m\u001b[0m\n\u001b[0;32m      7\u001b[0m \u001b[0mprint\u001b[0m\u001b[1;33m(\u001b[0m\u001b[0msishewuru\u001b[0m\u001b[1;33m(\u001b[0m\u001b[0ma\u001b[0m\u001b[1;33m)\u001b[0m\u001b[1;33m)\u001b[0m\u001b[1;33m\u001b[0m\u001b[1;33m\u001b[0m\u001b[0m\n\u001b[1;32m----> 8\u001b[1;33m \u001b[0mprint\u001b[0m\u001b[1;33m(\u001b[0m\u001b[0ma\u001b[0m\u001b[1;33m=\u001b[0m\u001b[1;33m[\u001b[0m\u001b[0mi\u001b[0m  \u001b[1;32mfor\u001b[0m \u001b[0mi\u001b[0m \u001b[1;32min\u001b[0m \u001b[0mrange\u001b[0m\u001b[1;33m(\u001b[0m\u001b[1;36m7.000\u001b[0m\u001b[1;33m)\u001b[0m\u001b[1;33m]\u001b[0m\u001b[1;33m)\u001b[0m\u001b[1;33m\u001b[0m\u001b[1;33m\u001b[0m\u001b[0m\n\u001b[0m",
      "\u001b[1;31mTypeError\u001b[0m: 'float' object cannot be interpreted as an integer"
     ]
    }
   ],
   "source": [
    "import numpy as np\n",
    "def sishewuru(x):\n",
    "    x[x<0.5]=0\n",
    "    x[x>=0.5]=1\n",
    "    return x\n",
    "a=np.array([0.3,0.5,0.7,0.2]).reshape(2,2)\n",
    "print(sishewuru(a))\n",
    "print(a=[i  for i in range(7.000)])"
   ]
  },
  {
   "cell_type": "code",
   "execution_count": 13,
   "metadata": {},
   "outputs": [
    {
     "name": "stdout",
     "output_type": "stream",
     "text": [
      "[ 0.          0.1010101   0.2020202   0.3030303   0.4040404   0.50505051\n",
      "  0.60606061  0.70707071  0.80808081  0.90909091  1.01010101  1.11111111\n",
      "  1.21212121  1.31313131  1.41414141  1.51515152  1.61616162  1.71717172\n",
      "  1.81818182  1.91919192  2.02020202  2.12121212  2.22222222  2.32323232\n",
      "  2.42424242  2.52525253  2.62626263  2.72727273  2.82828283  2.92929293\n",
      "  3.03030303  3.13131313  3.23232323  3.33333333  3.43434343  3.53535354\n",
      "  3.63636364  3.73737374  3.83838384  3.93939394  4.04040404  4.14141414\n",
      "  4.24242424  4.34343434  4.44444444  4.54545455  4.64646465  4.74747475\n",
      "  4.84848485  4.94949495  5.05050505  5.15151515  5.25252525  5.35353535\n",
      "  5.45454545  5.55555556  5.65656566  5.75757576  5.85858586  5.95959596\n",
      "  6.06060606  6.16161616  6.26262626  6.36363636  6.46464646  6.56565657\n",
      "  6.66666667  6.76767677  6.86868687  6.96969697  7.07070707  7.17171717\n",
      "  7.27272727  7.37373737  7.47474747  7.57575758  7.67676768  7.77777778\n",
      "  7.87878788  7.97979798  8.08080808  8.18181818  8.28282828  8.38383838\n",
      "  8.48484848  8.58585859  8.68686869  8.78787879  8.88888889  8.98989899\n",
      "  9.09090909  9.19191919  9.29292929  9.39393939  9.49494949  9.5959596\n",
      "  9.6969697   9.7979798   9.8989899  10.        ]\n",
      "[45.         49.1314457  52.05471422 52.86331015 51.17877163 47.24517232\n",
      " 41.86817614 36.21386313 31.51755932 28.77537589 28.49548034 30.57120707\n",
      " 34.30769177 38.59537899 42.18707808 44.00938653 43.43071858 40.41901206\n",
      " 35.54973436 29.86218824 24.59999803 20.90057672 19.51111402 20.60200316\n",
      " 23.72429371 27.92179445 31.96983427 34.68106245 35.20193001 33.22582086\n",
      " 29.06961381 23.59455793 17.99121875 13.48219414 11.01683168 11.0341767\n",
      " 13.35334264 17.21867844 21.48845456 24.91995272 26.4797726  25.60187179\n",
      " 22.32890656 17.30158057 11.59866123  6.46761156  3.01309876  1.92115892\n",
      "  3.28789383  6.59547438 11.54851317 16.9102368  20.81130809 22.45418533\n",
      " 21.60519771 18.65289288 14.51101661 10.3903506   7.49638034  6.72828546\n",
      "  8.45441472 12.42030926 17.81224103 23.46040057 28.1309984  30.83434209\n",
      " 31.07196243 28.96108115 25.20534063 20.9191045  17.34920109 15.5635905\n",
      " 16.18469507 19.23398052 24.12659603 29.81741137 35.0619859  38.72730525\n",
      " 40.07469499 38.94426748 35.7948459  31.58939606 27.55457398 24.87442991\n",
      " 24.39475112 26.41186888 30.59866452 36.08625101 41.68093393 46.16227687\n",
      " 48.58784436 48.52852788 46.17569425 42.29340136 38.02761293 34.6200515\n",
      " 33.09814042 34.01845625 37.3277517  42.37625146]\n"
     ]
    },
    {
     "data": {
      "image/png": "[encoded data removed]",
      "text/plain": [
       "<Figure size 432x288 with 1 Axes>"
      ]
     },
     "metadata": {
      "needs_background": "light"
     },
     "output_type": "display_data"
    }
   ],
   "source": [
    "import numpy as np\n",
    "import matplotlib\n",
    "import matplotlib.pyplot as plt\n",
    "import random\n",
    "def fun(x):\n",
    "    return 10*np.sin(5*x)+7*np.abs(x-5)+10\n",
    "x=np.linspace(0,10,100)\n",
    "print(x)\n",
    "y=fun(x)\n",
    "print(y)\n",
    "plt.plot(x,y,'b-',label='函数图像')\n",
    "plt.show()"
   ]
  }
 ],
 "metadata": {
  "kernelspec": {
   "display_name": "base",
   "language": "python",
   "name": "python3"
  },
  "language_info": {
   "codemirror_mode": {
    "name": "ipython",
    "version": 3
   },
   "file_extension": ".py",
   "mimetype": "text/x-python",
   "name": "python",
   "nbconvert_exporter": "python",
   "pygments_lexer": "ipython3",
   "version": "3.8.3"
  }
 },
 "nbformat": 4,
 "nbformat_minor": 2
}
